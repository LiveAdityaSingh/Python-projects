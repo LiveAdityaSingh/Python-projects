{
  "nbformat": 4,
  "nbformat_minor": 0,
  "metadata": {
    "colab": {
      "provenance": [],
      "include_colab_link": true
    },
    "kernelspec": {
      "name": "python3",
      "display_name": "Python 3"
    },
    "language_info": {
      "name": "python"
    }
  },
  "cells": [
    {
      "cell_type": "markdown",
      "metadata": {
        "id": "view-in-github",
        "colab_type": "text"
      },
      "source": [
        "<a href=\"https://colab.research.google.com/github/LiveAdityaSingh/Python-projects/blob/main/Detect_Circles.ipynb\" target=\"_parent\"><img src=\"https://colab.research.google.com/assets/colab-badge.svg\" alt=\"Open In Colab\"/></a>"
      ]
    },
    {
      "cell_type": "code",
      "metadata": {
        "id": "NTX1ZQyGTwwS"
      },
      "source": [
        "import numpy as np\n",
        "import cv2 as cv\n",
        "import os"
      ],
      "execution_count": null,
      "outputs": []
    },
    {
      "cell_type": "code",
      "metadata": {
        "id": "5gMkxa-UUxX5"
      },
      "source": [
        "def Circle_Detection():\n",
        "  name = r\"/content/data\"\n",
        "  xyz = os.listdir(name)\n",
        "  for i in xyz:\n",
        "    i = name + '/' + i\n",
        "  img = cv.imread(i)\n",
        "  output = img.copy()\n",
        "  gray = cv.cvtColor(img, cv.COLOR_BGR2GRAY)\n",
        "  gray = cv.medianBlur(gray, 5)\n",
        "  l = []\n",
        "  circle = cv.HoughCircles(gray, cv.HOUGH_GRADIENT, 1, 100, param1 = 50, param2 = 30, minRadius = 0, maxRadius = 0)\n",
        "  try:\n",
        "    Detected_Circles = np.uint16(np.around(circle))\n",
        "    l.append(1)\n",
        "  except:\n",
        "    l.append(0)\n",
        "  s = str((l.count(1) / (l.count(1) + l.count(0)) * 100) + \"% OK and\" + str((l.count(0) / (l.count(1) + l.count(0)) * 100) + \"% Not OK.\"\n",
        "  return s"
      ],
      "execution_count": null,
      "outputs": []
    },
    {
      "cell_type": "code",
      "metadata": {
        "id": "e182TPC9caEa"
      },
      "source": [
        "cap = cv.VideoCapture(r'20210914_120041.mp4')\n",
        "\n",
        "try:\n",
        "    if not os.path.exists('data'):\n",
        "        os.makedirs('data')\n",
        "except OSError:\n",
        "    print ('Error: Creating directory of data')\n",
        "\n",
        "currentFrame = 0\n",
        "while(True):\n",
        "    ret, frame = cap.read()\n",
        "    name = './data/frame' + str(currentFrame) + '.jpg'\n",
        "    cv.imwrite(name, frame)\n",
        "\n",
        "    currentFrame += 1\n",
        "\n",
        "cap.release()\n",
        "cv.destroyAllWindows()\n",
        "print(Circle_Detection())"
      ],
      "execution_count": null,
      "outputs": []
    }
  ]
}