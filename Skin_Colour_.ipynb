{
  "nbformat": 4,
  "nbformat_minor": 0,
  "metadata": {
    "colab": {
      "provenance": [],
      "authorship_tag": "ABX9TyOn+BuYK99xCz8UpHBqY+Pr",
      "include_colab_link": true
    },
    "kernelspec": {
      "display_name": "Python 3",
      "name": "python3"
    }
  },
  "cells": [
    {
      "cell_type": "markdown",
      "metadata": {
        "id": "view-in-github",
        "colab_type": "text"
      },
      "source": [
        "<a href=\"https://colab.research.google.com/github/LiveAdityaSingh/Python-projects/blob/main/Skin_Colour_.ipynb\" target=\"_parent\"><img src=\"https://colab.research.google.com/assets/colab-badge.svg\" alt=\"Open In Colab\"/></a>"
      ]
    },
    {
      "cell_type": "code",
      "metadata": {
        "id": "ADpvFFudfncC"
      },
      "source": [
        "import numpy as np\n",
        "from PIL import Image\n",
        "from scipy import io\n",
        "from scipy import misc"
      ],
      "execution_count": null,
      "outputs": []
    },
    {
      "cell_type": "code",
      "metadata": {
        "id": "oPuLZF13fsyC"
      },
      "source": [
        "def get_arm_mask(image_path):\n",
        "    # Load segmentations and keep only the arms\n",
        "    mask = scipy.io.loadmat(image_path)\n",
        "    mask = mask.resize((256,192))\n",
        "    mask = np.array(((mask==14)|(mask==15)), dtype='uint8')\n",
        "    mask *= 255 # Follow PIL mask conventions (0=mask, 255=keep)\n",
        "    return mask"
      ],
      "execution_count": null,
      "outputs": []
    },
    {
      "cell_type": "code",
      "metadata": {
        "id": "1S1ImtMmfyr_"
      },
      "source": [
        "\n",
        "def get_color_histogram(image, mask):\n",
        "    im = Image.fromarray(image)\n",
        "    mask = Image.fromarray(mask)\n",
        "    hist = im.histogram(mask)\n",
        "    # Normalize histogram\n",
        "    hist = np.asarray(hist, dtype=float)\n",
        "    hist /= np.linalg.norm(hist)\n",
        "    return hist"
      ],
      "execution_count": null,
      "outputs": []
    },
    {
      "cell_type": "code",
      "metadata": {
        "id": "IKHTRKc1f5Qn"
      },
      "source": [
        "\n",
        "def get_skintone_similarity(in_pic_path, in_seg_path, out_pic_path, out_seg_path=''):\n",
        "    # Load and resize images\n",
        "    in_pic = Image.open(in_pic_path)\n",
        "    #in_pic = misc.imread(in_pic_path)\n",
        "    in_pic = in_pic.resize((256, 192))\n",
        "\n",
        "    out_pic = Image.open(out_pic_path)\n",
        "    out_pic = out_pic.resize((256, 192))\n",
        "\n",
        "    # Load segment and return arm mask\n",
        "    in_mask  = get_arm_mask(in_seg_path)\n",
        "    if out_seg_path:\n",
        "        out_mask = get_arm_mask(out_seg_path)\n",
        "    else:\n",
        "        out_mask = in_mask\n",
        "\n",
        "    # Get color histograms of arms\n",
        "    in_hist  = get_color_histogram(in_pic, in_mask)\n",
        "    out_hist = get_color_histogram(out_pic, out_mask)\n",
        "\n",
        "    # Return dot product of histograms\n",
        "    return np.dot(in_hist, out_hist)"
      ],
      "execution_count": null,
      "outputs": []
    },
    {
      "cell_type": "code",
      "metadata": {
        "colab": {
          "base_uri": "https://localhost:8080/",
          "height": 352
        },
        "id": "Uz5l24NJf57z",
        "outputId": "1d6000c7-37d7-4fab-8e8b-989b88978563"
      },
      "source": [
        "get_skintone_similarity('inputs/ftest1.jpg',\n",
        "                        'sample_data/example_person.mat',\n",
        "                        'inputs/ftest1.jpg',\n",
        "                        'sample_data/example_person.mat')"
      ],
      "execution_count": null,
      "outputs": [
        {
          "output_type": "error",
          "ename": "AttributeError",
          "evalue": "ignored",
          "traceback": [
            "\u001b[0;31m---------------------------------------------------------------------------\u001b[0m",
            "\u001b[0;31mAttributeError\u001b[0m                            Traceback (most recent call last)",
            "\u001b[0;32m<ipython-input-153-fd314454cb7f>\u001b[0m in \u001b[0;36m<module>\u001b[0;34m()\u001b[0m\n\u001b[1;32m      2\u001b[0m                         \u001b[0;34m'sample_data/example_person.mat'\u001b[0m\u001b[0;34m,\u001b[0m\u001b[0;34m\u001b[0m\u001b[0;34m\u001b[0m\u001b[0m\n\u001b[1;32m      3\u001b[0m                         \u001b[0;34m'inputs/ftest1.jpg'\u001b[0m\u001b[0;34m,\u001b[0m\u001b[0;34m\u001b[0m\u001b[0;34m\u001b[0m\u001b[0m\n\u001b[0;32m----> 4\u001b[0;31m                         'sample_data/example_person.mat')\n\u001b[0m",
            "\u001b[0;32m<ipython-input-152-dc1abc7cdc50>\u001b[0m in \u001b[0;36mget_skintone_similarity\u001b[0;34m(in_pic_path, in_seg_path, out_pic_path, out_seg_path)\u001b[0m\n\u001b[1;32m     10\u001b[0m \u001b[0;34m\u001b[0m\u001b[0m\n\u001b[1;32m     11\u001b[0m     \u001b[0;31m# Load segment and return arm mask\u001b[0m\u001b[0;34m\u001b[0m\u001b[0;34m\u001b[0m\u001b[0;34m\u001b[0m\u001b[0m\n\u001b[0;32m---> 12\u001b[0;31m     \u001b[0min_mask\u001b[0m  \u001b[0;34m=\u001b[0m \u001b[0mget_arm_mask\u001b[0m\u001b[0;34m(\u001b[0m\u001b[0min_seg_path\u001b[0m\u001b[0;34m)\u001b[0m\u001b[0;34m\u001b[0m\u001b[0;34m\u001b[0m\u001b[0m\n\u001b[0m\u001b[1;32m     13\u001b[0m     \u001b[0;32mif\u001b[0m \u001b[0mout_seg_path\u001b[0m\u001b[0;34m:\u001b[0m\u001b[0;34m\u001b[0m\u001b[0;34m\u001b[0m\u001b[0m\n\u001b[1;32m     14\u001b[0m         \u001b[0mout_mask\u001b[0m \u001b[0;34m=\u001b[0m \u001b[0mget_arm_mask\u001b[0m\u001b[0;34m(\u001b[0m\u001b[0mout_seg_path\u001b[0m\u001b[0;34m)\u001b[0m\u001b[0;34m\u001b[0m\u001b[0;34m\u001b[0m\u001b[0m\n",
            "\u001b[0;32m<ipython-input-150-a76ae8116af1>\u001b[0m in \u001b[0;36mget_arm_mask\u001b[0;34m(image_path)\u001b[0m\n\u001b[1;32m      2\u001b[0m     \u001b[0;31m# Load segmentations and keep only the arms\u001b[0m\u001b[0;34m\u001b[0m\u001b[0;34m\u001b[0m\u001b[0;34m\u001b[0m\u001b[0m\n\u001b[1;32m      3\u001b[0m     \u001b[0mmask\u001b[0m \u001b[0;34m=\u001b[0m \u001b[0mscipy\u001b[0m\u001b[0;34m.\u001b[0m\u001b[0mio\u001b[0m\u001b[0;34m.\u001b[0m\u001b[0mloadmat\u001b[0m\u001b[0;34m(\u001b[0m\u001b[0mimage_path\u001b[0m\u001b[0;34m)\u001b[0m\u001b[0;34m\u001b[0m\u001b[0;34m\u001b[0m\u001b[0m\n\u001b[0;32m----> 4\u001b[0;31m     \u001b[0mmask\u001b[0m \u001b[0;34m=\u001b[0m \u001b[0mmask\u001b[0m\u001b[0;34m.\u001b[0m\u001b[0mresize\u001b[0m\u001b[0;34m(\u001b[0m\u001b[0;34m(\u001b[0m\u001b[0;36m256\u001b[0m\u001b[0;34m,\u001b[0m\u001b[0;36m192\u001b[0m\u001b[0;34m)\u001b[0m\u001b[0;34m)\u001b[0m\u001b[0;34m\u001b[0m\u001b[0;34m\u001b[0m\u001b[0m\n\u001b[0m\u001b[1;32m      5\u001b[0m     \u001b[0mmask\u001b[0m \u001b[0;34m=\u001b[0m \u001b[0mnp\u001b[0m\u001b[0;34m.\u001b[0m\u001b[0marray\u001b[0m\u001b[0;34m(\u001b[0m\u001b[0;34m(\u001b[0m\u001b[0;34m(\u001b[0m\u001b[0mmask\u001b[0m\u001b[0;34m==\u001b[0m\u001b[0;36m14\u001b[0m\u001b[0;34m)\u001b[0m\u001b[0;34m|\u001b[0m\u001b[0;34m(\u001b[0m\u001b[0mmask\u001b[0m\u001b[0;34m==\u001b[0m\u001b[0;36m15\u001b[0m\u001b[0;34m)\u001b[0m\u001b[0;34m)\u001b[0m\u001b[0;34m,\u001b[0m \u001b[0mdtype\u001b[0m\u001b[0;34m=\u001b[0m\u001b[0;34m'uint8'\u001b[0m\u001b[0;34m)\u001b[0m\u001b[0;34m\u001b[0m\u001b[0;34m\u001b[0m\u001b[0m\n\u001b[1;32m      6\u001b[0m     \u001b[0mmask\u001b[0m \u001b[0;34m*=\u001b[0m \u001b[0;36m255\u001b[0m \u001b[0;31m# Follow PIL mask conventions (0=mask, 255=keep)\u001b[0m\u001b[0;34m\u001b[0m\u001b[0;34m\u001b[0m\u001b[0m\n",
            "\u001b[0;31mAttributeError\u001b[0m: 'dict' object has no attribute 'resize'"
          ]
        }
      ]
    },
    {
      "cell_type": "markdown",
      "metadata": {
        "id": "nZvVbIkHfrf5"
      },
      "source": []
    },
    {
      "cell_type": "code",
      "metadata": {
        "id": "v_0UzzzkU10P"
      },
      "source": [
        "import numpy as np\n",
        "import pickle as pkl\n",
        "import scipy.io\n",
        "\n",
        "from scipy import misc\n",
        "! pip install scipy==1.1.0\n",
        "from matplotlib import pyplot as plt"
      ],
      "execution_count": null,
      "outputs": []
    },
    {
      "cell_type": "code",
      "metadata": {
        "id": "ZLCJKjklWI7c"
      },
      "source": [
        "import imageio\n",
        "pic = imageio.imread('inputs/ftest3.jpg')\n",
        "#pic = misc.imread()"
      ],
      "execution_count": null,
      "outputs": []
    },
    {
      "cell_type": "code",
      "metadata": {
        "id": "xDoC6jwzWP6-"
      },
      "source": [
        "\n",
        "plt.imshow(pic)\n",
        "plt.xticks([])\n",
        "plt.yticks([])\n",
        "plt.show()"
      ],
      "execution_count": null,
      "outputs": []
    },
    {
      "cell_type": "markdown",
      "metadata": {
        "id": "GrvrQr5zWVON"
      },
      "source": [
        "1) Body mask from the human parsing model\n"
      ]
    },
    {
      "cell_type": "code",
      "metadata": {
        "id": "imfArVuMWSL7"
      },
      "source": [
        "\n",
        "img = scipy.io.loadmat('sample_data/example_person.mat')\n",
        "img = img['segment']"
      ],
      "execution_count": null,
      "outputs": []
    },
    {
      "cell_type": "code",
      "metadata": {
        "id": "HaBarkmEZAu4"
      },
      "source": [
        "\n",
        "# Keep all pixels but face/hair-related items\n",
        "plt.imshow(((img!=1)&(img!=5)&(img!=0)), cmap='gray')\n",
        "plt.xticks([])\n",
        "plt.yticks([])\n",
        "plt.show()"
      ],
      "execution_count": null,
      "outputs": []
    },
    {
      "cell_type": "code",
      "metadata": {
        "id": "jlAzBEGrZFeT"
      },
      "source": [
        "# Keep face/hair-related items and pants\n",
        "mask = ((img==1)|(img==2)|(img==4)|(img==13)|(img==9))\n",
        "\n",
        "plt.imshow(mask, cmap='gray')\n",
        "plt.xticks([])\n",
        "plt.yticks([])\n",
        "plt.show()"
      ],
      "execution_count": null,
      "outputs": []
    },
    {
      "cell_type": "code",
      "metadata": {
        "id": "VVh3tgJsZGeP"
      },
      "source": [
        "from PIL import Image\n",
        "newsize = (256, 192)\n",
        "pic = pic.resize(newsize)\n",
        "# Resize in case using an image of different dimension than 256 x 192\n",
        "#pic = misc.imresize(pic, (256, 192))"
      ],
      "execution_count": null,
      "outputs": []
    },
    {
      "cell_type": "code",
      "metadata": {
        "id": "R8xzalfVZLe1"
      },
      "source": [
        "\n",
        "# Stack mask into a 3-channel image so that it can be applied to RGB images\n",
        "masked_img = pic*np.stack([mask]*3, axis=2)"
      ],
      "execution_count": null,
      "outputs": []
    }
  ]
}